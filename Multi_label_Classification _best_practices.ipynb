{
  "nbformat": 4,
  "nbformat_minor": 0,
  "metadata": {
    "accelerator": "GPU",
    "colab": {
      "name": "Multi-label Classification  best practices.ipynb",
      "provenance": [],
      "toc_visible": true
    },
    "kernelspec": {
      "display_name": "Python 3",
      "name": "python3"
    }
  },
  "cells": [
    {
      "cell_type": "markdown",
      "metadata": {
        "id": "RiWY-W0thFmc"
      },
      "source": [
        "#Importing Packages"
      ]
    },
    {
      "cell_type": "code",
      "metadata": {
        "id": "DC80amx4g7iH"
      },
      "source": [
        "import numpy as np\n",
        "import pandas as pd\n",
        "import seaborn as sns\n",
        "import matplotlib.pyplot as plt\n",
        "import urllib.request\n",
        "from sklearn.model_selection import train_test_split"
      ],
      "execution_count": 4,
      "outputs": []
    },
    {
      "cell_type": "code",
      "metadata": {
        "colab": {
          "base_uri": "https://localhost:8080/"
        },
        "id": "ZkUXYcKu4R5-",
        "outputId": "1a788bfb-70d9-4ae7-c686-8ad1102345a2"
      },
      "source": [
        "!pip install scikit-multilearn"
      ],
      "execution_count": null,
      "outputs": [
        {
          "output_type": "stream",
          "text": [
            "Collecting scikit-multilearn\n",
            "\u001b[?25l  Downloading https://files.pythonhosted.org/packages/bb/1f/e6ff649c72a1cdf2c7a1d31eb21705110ce1c5d3e7e26b2cc300e1637272/scikit_multilearn-0.2.0-py3-none-any.whl (89kB)\n",
            "\r\u001b[K     |███▊                            | 10kB 18.2MB/s eta 0:00:01\r\u001b[K     |███████▍                        | 20kB 20.9MB/s eta 0:00:01\r\u001b[K     |███████████                     | 30kB 10.9MB/s eta 0:00:01\r\u001b[K     |██████████████▊                 | 40kB 9.2MB/s eta 0:00:01\r\u001b[K     |██████████████████▍             | 51kB 4.8MB/s eta 0:00:01\r\u001b[K     |██████████████████████          | 61kB 5.0MB/s eta 0:00:01\r\u001b[K     |█████████████████████████▊      | 71kB 5.5MB/s eta 0:00:01\r\u001b[K     |█████████████████████████████▍  | 81kB 5.9MB/s eta 0:00:01\r\u001b[K     |████████████████████████████████| 92kB 4.3MB/s \n",
            "\u001b[?25hInstalling collected packages: scikit-multilearn\n",
            "Successfully installed scikit-multilearn-0.2.0\n"
          ],
          "name": "stdout"
        }
      ]
    },
    {
      "cell_type": "code",
      "metadata": {
        "id": "vUniaEtD52-w"
      },
      "source": [
        "from skmultilearn.model_selection import iterative_train_test_split\n",
        "from skmultilearn.model_selection.measures import get_combination_wise_output_matrix"
      ],
      "execution_count": null,
      "outputs": []
    },
    {
      "cell_type": "markdown",
      "metadata": {
        "id": "5SJUMybGhEUP"
      },
      "source": [
        "## Downloading Dataset\n"
      ]
    },
    {
      "cell_type": "markdown",
      "metadata": {
        "id": "Q5WRhrb-jBlC"
      },
      "source": [
        "ChestX-ray dataset comprises 112,120 frontal-view X-ray images of 30,805 unique patients with the text-mined fourteen disease image labels (where each image can have multi-labels), mined from the associated radiological reports using natural language processing. \n",
        "Fourteen common thoracic pathologies include: \n",
        "\n",
        "\n",
        "1. Atelectasis\n",
        "2. Consolidation\n",
        "3. Infiltration\n",
        "4. Pneumothorax\n",
        "5. Edema\n",
        "6. Emphysema\n",
        "7. Fibrosis\n",
        "8. Effusion\n",
        "9. Pneumonia\n",
        "10. Pleural_thickening\n",
        "11. Cardiomegaly\n",
        "12. Nodule\n",
        "13. Mass\n",
        "14. Hernia\n",
        "\n",
        "These in turn can be used by physicians to diagnose 8 different diseases.\n",
        "[The dataset can be found here](https://nihcc.app.box.com/v/ChestXray-NIHCC)"
      ]
    },
    {
      "cell_type": "code",
      "metadata": {
        "colab": {
          "background_save": true,
          "base_uri": "https://localhost:8080/",
          "height": 414
        },
        "id": "k5UaGwScjAnp",
        "outputId": "af831daa-e736-45e4-aff8-db94fbba9b38"
      },
      "source": [
        "# URLs for the zip files\n",
        "links = [\n",
        "    'https://nihcc.box.com/shared/static/vfk49d74nhbxq3nqjg0900w5nvkorp5c.gz',\n",
        "    'https://nihcc.box.com/shared/static/i28rlmbvmfjbl8p2n3ril0pptcmcu9d1.gz',\n",
        "    'https://nihcc.box.com/shared/static/f1t00wrtdk94satdfb9olcolqx20z2jp.gz',\n",
        "\t'https://nihcc.box.com/shared/static/0aowwzs5lhjrceb3qp67ahp0rd1l1etg.gz',\n",
        "    'https://nihcc.box.com/shared/static/v5e3goj22zr6h8tzualxfsqlqaygfbsn.gz',\n",
        "\t'https://nihcc.box.com/shared/static/asi7ikud9jwnkrnkj99jnpfkjdes7l6l.gz',\n",
        "\t'https://nihcc.box.com/shared/static/jn1b4mw4n6lnh74ovmcjb8y48h8xj07n.gz',\n",
        "    'https://nihcc.box.com/shared/static/tvpxmn7qyrgl0w8wfh9kqfjskv6nmm1j.gz',\n",
        "\t'https://nihcc.box.com/shared/static/upyy3ml7qdumlgk2rfcvlb9k6gvqq2pj.gz',\n",
        "\t'https://nihcc.box.com/shared/static/l6nilvfa9cg3s28tqv1qc1olm3gnz54p.gz',\n",
        "\t'https://nihcc.box.com/shared/static/hhq8fkdgvcari67vfhs7ppg2w6ni4jze.gz',\n",
        "\t'https://nihcc.box.com/shared/static/ioqwiy20ihqwyr8pf4c24eazhh281pbu.gz'\n",
        "]\n",
        "\n",
        "targz_files = list()\n",
        "\n",
        "for idx, link in enumerate(links):\n",
        "    fn = 'images_%02d.tar.gz' % (idx+1)\n",
        "    targz_files.append(fn)\n",
        "    print('downloading '+fn+'...')\n",
        "    urllib.request.urlretrieve(link, fn)  # download the zip file\n",
        "\n",
        "print(\"Download complete. Please check the checksums\")"
      ],
      "execution_count": null,
      "outputs": [
        {
          "output_type": "stream",
          "text": [
            "downloadingimages_01.tar.gz...\n",
            "downloadingimages_02.tar.gz...\n",
            "downloadingimages_03.tar.gz...\n",
            "downloadingimages_04.tar.gz...\n",
            "downloadingimages_05.tar.gz...\n",
            "downloadingimages_06.tar.gz...\n",
            "downloadingimages_07.tar.gz...\n",
            "downloadingimages_08.tar.gz...\n",
            "downloadingimages_09.tar.gz...\n",
            "downloadingimages_10.tar.gz...\n",
            "downloadingimages_11.tar.gz...\n",
            "downloadingimages_12.tar.gz...\n",
            "Download complete. Please check the checksums\n"
          ],
          "name": "stdout"
        }
      ]
    },
    {
      "cell_type": "markdown",
      "metadata": {
        "id": "Xekg6bz1yboy"
      },
      "source": [
        "Images in the ChestX-ray dataset are divided into these two sets on the patient level. All studies from the same patient will only appear in either training/validation or testing set. "
      ]
    },
    {
      "cell_type": "code",
      "metadata": {
        "id": "RXOIy521LjYf"
      },
      "source": [
        "for idx, filename in enumerate(targz_files):\n",
        "  shutil.unpack_archive(filename, \"images\")"
      ],
      "execution_count": null,
      "outputs": []
    },
    {
      "cell_type": "markdown",
      "metadata": {
        "id": "AUIM3jX2-d4Z"
      },
      "source": [
        "The website for this dataset also contains 3 files that we'll be using.\n",
        "\n",
        "\n",
        "1.   Data_Entry_2017_v2020.csv (containts patient information and labels of each image)\n",
        "2.  train_val_list.txt\n",
        "3. test_list.txt\n",
        "\n",
        "The train_val_list.txt and test_list.txt files contain image IDs for trian and test sets and are already divided by patient IDs to prevent data leakage or patient overlap.\n",
        "\n",
        "You should download these three files.\n",
        "\n"
      ]
    },
    {
      "cell_type": "markdown",
      "metadata": {
        "id": "fKz3Yx5U8OOT"
      },
      "source": [
        "# Preprocessing data labels"
      ]
    },
    {
      "cell_type": "code",
      "metadata": {
        "colab": {
          "base_uri": "https://localhost:8080/",
          "height": 235
        },
        "id": "ZynvgQHw00KH",
        "outputId": "07e4aab3-ebe9-4716-ce6f-1b8446018e95"
      },
      "source": [
        "datainfo = pd.read_csv(\"Data_Entry_2017_v2020.csv\") \n",
        "datainfo.head()"
      ],
      "execution_count": 5,
      "outputs": [
        {
          "output_type": "execute_result",
          "data": {
            "text/html": [
              "<div>\n",
              "<style scoped>\n",
              "    .dataframe tbody tr th:only-of-type {\n",
              "        vertical-align: middle;\n",
              "    }\n",
              "\n",
              "    .dataframe tbody tr th {\n",
              "        vertical-align: top;\n",
              "    }\n",
              "\n",
              "    .dataframe thead th {\n",
              "        text-align: right;\n",
              "    }\n",
              "</style>\n",
              "<table border=\"1\" class=\"dataframe\">\n",
              "  <thead>\n",
              "    <tr style=\"text-align: right;\">\n",
              "      <th></th>\n",
              "      <th>Image Index</th>\n",
              "      <th>Finding Labels</th>\n",
              "      <th>Follow-up #</th>\n",
              "      <th>Patient ID</th>\n",
              "      <th>Patient Age</th>\n",
              "      <th>Patient Gender</th>\n",
              "      <th>View Position</th>\n",
              "      <th>OriginalImage[Width</th>\n",
              "      <th>Height]</th>\n",
              "      <th>OriginalImagePixelSpacing[x</th>\n",
              "      <th>y]</th>\n",
              "    </tr>\n",
              "  </thead>\n",
              "  <tbody>\n",
              "    <tr>\n",
              "      <th>0</th>\n",
              "      <td>00000001_000.png</td>\n",
              "      <td>Cardiomegaly</td>\n",
              "      <td>0</td>\n",
              "      <td>1</td>\n",
              "      <td>57</td>\n",
              "      <td>M</td>\n",
              "      <td>PA</td>\n",
              "      <td>2682</td>\n",
              "      <td>2749</td>\n",
              "      <td>0.143</td>\n",
              "      <td>0.143</td>\n",
              "    </tr>\n",
              "    <tr>\n",
              "      <th>1</th>\n",
              "      <td>00000001_001.png</td>\n",
              "      <td>Cardiomegaly|Emphysema</td>\n",
              "      <td>1</td>\n",
              "      <td>1</td>\n",
              "      <td>58</td>\n",
              "      <td>M</td>\n",
              "      <td>PA</td>\n",
              "      <td>2894</td>\n",
              "      <td>2729</td>\n",
              "      <td>0.143</td>\n",
              "      <td>0.143</td>\n",
              "    </tr>\n",
              "    <tr>\n",
              "      <th>2</th>\n",
              "      <td>00000001_002.png</td>\n",
              "      <td>Cardiomegaly|Effusion</td>\n",
              "      <td>2</td>\n",
              "      <td>1</td>\n",
              "      <td>58</td>\n",
              "      <td>M</td>\n",
              "      <td>PA</td>\n",
              "      <td>2500</td>\n",
              "      <td>2048</td>\n",
              "      <td>0.168</td>\n",
              "      <td>0.168</td>\n",
              "    </tr>\n",
              "    <tr>\n",
              "      <th>3</th>\n",
              "      <td>00000002_000.png</td>\n",
              "      <td>No Finding</td>\n",
              "      <td>0</td>\n",
              "      <td>2</td>\n",
              "      <td>80</td>\n",
              "      <td>M</td>\n",
              "      <td>PA</td>\n",
              "      <td>2500</td>\n",
              "      <td>2048</td>\n",
              "      <td>0.171</td>\n",
              "      <td>0.171</td>\n",
              "    </tr>\n",
              "    <tr>\n",
              "      <th>4</th>\n",
              "      <td>00000003_001.png</td>\n",
              "      <td>Hernia</td>\n",
              "      <td>0</td>\n",
              "      <td>3</td>\n",
              "      <td>74</td>\n",
              "      <td>F</td>\n",
              "      <td>PA</td>\n",
              "      <td>2500</td>\n",
              "      <td>2048</td>\n",
              "      <td>0.168</td>\n",
              "      <td>0.168</td>\n",
              "    </tr>\n",
              "  </tbody>\n",
              "</table>\n",
              "</div>"
            ],
            "text/plain": [
              "        Image Index          Finding Labels  ...  OriginalImagePixelSpacing[x     y]\n",
              "0  00000001_000.png            Cardiomegaly  ...                        0.143  0.143\n",
              "1  00000001_001.png  Cardiomegaly|Emphysema  ...                        0.143  0.143\n",
              "2  00000001_002.png   Cardiomegaly|Effusion  ...                        0.168  0.168\n",
              "3  00000002_000.png              No Finding  ...                        0.171  0.171\n",
              "4  00000003_001.png                  Hernia  ...                        0.168  0.168\n",
              "\n",
              "[5 rows x 11 columns]"
            ]
          },
          "metadata": {
            "tags": []
          },
          "execution_count": 5
        }
      ]
    },
    {
      "cell_type": "code",
      "metadata": {
        "colab": {
          "base_uri": "https://localhost:8080/"
        },
        "id": "Gt1CICgEGrUp",
        "outputId": "f4baac42-3246-4c86-aee3-0275aa740f32"
      },
      "source": [
        "datainfo.shape"
      ],
      "execution_count": 6,
      "outputs": [
        {
          "output_type": "execute_result",
          "data": {
            "text/plain": [
              "(112120, 11)"
            ]
          },
          "metadata": {
            "tags": []
          },
          "execution_count": 6
        }
      ]
    },
    {
      "cell_type": "code",
      "metadata": {
        "id": "qW8Pk0vz52u9"
      },
      "source": [
        "classes = ['Cardiomegaly', \n",
        "          'Emphysema', \n",
        "          'Effusion', \n",
        "          'Hernia', \n",
        "          'Infiltration', \n",
        "          'Mass', \n",
        "          'Nodule', \n",
        "          'Atelectasis',\n",
        "          'Pneumothorax',\n",
        "          'Pleural_Thickening', \n",
        "          'Pneumonia', \n",
        "          'Fibrosis', \n",
        "          'Edema', \n",
        "          'Consolidation']"
      ],
      "execution_count": 7,
      "outputs": []
    },
    {
      "cell_type": "code",
      "metadata": {
        "colab": {
          "base_uri": "https://localhost:8080/",
          "height": 322
        },
        "id": "ICqlKwE6Pqr9",
        "outputId": "91429884-a7ee-405e-e66d-682ab632d12a"
      },
      "source": [
        "labels = datainfo[['Image Index','Finding Labels', 'Patient ID']]\n",
        "labels['Finding Labels'] = labels.loc[:,'Finding Labels'].str.split('|')\n",
        "labels.head()"
      ],
      "execution_count": 8,
      "outputs": [
        {
          "output_type": "stream",
          "text": [
            "/usr/local/lib/python3.6/dist-packages/ipykernel_launcher.py:2: SettingWithCopyWarning: \n",
            "A value is trying to be set on a copy of a slice from a DataFrame.\n",
            "Try using .loc[row_indexer,col_indexer] = value instead\n",
            "\n",
            "See the caveats in the documentation: https://pandas.pydata.org/pandas-docs/stable/user_guide/indexing.html#returning-a-view-versus-a-copy\n",
            "  \n"
          ],
          "name": "stderr"
        },
        {
          "output_type": "execute_result",
          "data": {
            "text/html": [
              "<div>\n",
              "<style scoped>\n",
              "    .dataframe tbody tr th:only-of-type {\n",
              "        vertical-align: middle;\n",
              "    }\n",
              "\n",
              "    .dataframe tbody tr th {\n",
              "        vertical-align: top;\n",
              "    }\n",
              "\n",
              "    .dataframe thead th {\n",
              "        text-align: right;\n",
              "    }\n",
              "</style>\n",
              "<table border=\"1\" class=\"dataframe\">\n",
              "  <thead>\n",
              "    <tr style=\"text-align: right;\">\n",
              "      <th></th>\n",
              "      <th>Image Index</th>\n",
              "      <th>Finding Labels</th>\n",
              "      <th>Patient ID</th>\n",
              "    </tr>\n",
              "  </thead>\n",
              "  <tbody>\n",
              "    <tr>\n",
              "      <th>0</th>\n",
              "      <td>00000001_000.png</td>\n",
              "      <td>[Cardiomegaly]</td>\n",
              "      <td>1</td>\n",
              "    </tr>\n",
              "    <tr>\n",
              "      <th>1</th>\n",
              "      <td>00000001_001.png</td>\n",
              "      <td>[Cardiomegaly, Emphysema]</td>\n",
              "      <td>1</td>\n",
              "    </tr>\n",
              "    <tr>\n",
              "      <th>2</th>\n",
              "      <td>00000001_002.png</td>\n",
              "      <td>[Cardiomegaly, Effusion]</td>\n",
              "      <td>1</td>\n",
              "    </tr>\n",
              "    <tr>\n",
              "      <th>3</th>\n",
              "      <td>00000002_000.png</td>\n",
              "      <td>[No Finding]</td>\n",
              "      <td>2</td>\n",
              "    </tr>\n",
              "    <tr>\n",
              "      <th>4</th>\n",
              "      <td>00000003_001.png</td>\n",
              "      <td>[Hernia]</td>\n",
              "      <td>3</td>\n",
              "    </tr>\n",
              "  </tbody>\n",
              "</table>\n",
              "</div>"
            ],
            "text/plain": [
              "        Image Index             Finding Labels  Patient ID\n",
              "0  00000001_000.png             [Cardiomegaly]           1\n",
              "1  00000001_001.png  [Cardiomegaly, Emphysema]           1\n",
              "2  00000001_002.png   [Cardiomegaly, Effusion]           1\n",
              "3  00000002_000.png               [No Finding]           2\n",
              "4  00000003_001.png                   [Hernia]           3"
            ]
          },
          "metadata": {
            "tags": []
          },
          "execution_count": 8
        }
      ]
    },
    {
      "cell_type": "code",
      "metadata": {
        "id": "KD42Kw_GP3Y-"
      },
      "source": [
        "labels['No finding'] = labels.loc[:,\"Finding Labels\"].str.contains(\"No Finding\", regex=False)\n",
        "labels['Cardiomegaly'] = labels.loc[:,\"Finding Labels\"].str.contains(\"Cardiomegaly\", regex=False)\n",
        "labels['Effusion'] = labels.loc[:,\"Finding Labels\"].str.contains(\"Effusion\", regex=False)\n",
        "labels['Hernia'] = labels.loc[:,\"Finding Labels\"].str.contains(\"Hernia\", regex=False)\n",
        "labels['Emphysema'] = labels.loc[:,\"Finding Labels\"].str.contains(\"Emphysema\", regex=False)\n",
        "labels['Atelectasis'] = labels.loc[:,\"Finding Labels\"].str.contains(\"Atelectasis\", regex=False)\n",
        "labels['Infiltration'] = labels.loc[:,\"Finding Labels\"].str.contains(\"Infiltration\", regex=False)\n",
        "labels['Nodule'] = labels.loc[:,\"Finding Labels\"].str.contains(\"Nodule\", regex=False)\n",
        "labels['Pleural_Thickening'] = labels.loc[:,\"Finding Labels\"].str.contains(\"Pleural_Thickening\", regex=False)\n",
        "labels['Pneumothorax'] = labels.loc[:,\"Finding Labels\"].str.contains(\"Pneumothorax\", regex=False)\n",
        "labels['Mass'] = labels.loc[:,\"Finding Labels\"].str.contains(\"Mass\", regex=False)\n",
        "labels['Fibrosis'] = labels.loc[:,\"Finding Labels\"].str.contains(\"Fibrosis\", regex=False)\n",
        "labels['Consolidation'] = labels.loc[:,\"Finding Labels\"].str.contains(\"Consolidation\", regex=False)\n",
        "labels['Pneumonia'] = labels.loc[:,\"Finding Labels\"].str.contains(\"Pneumonia\", regex=False)\n",
        "labels['Edema'] = labels.loc[:,\"Finding Labels\"].str.contains(\"Edema\", regex=False)"
      ],
      "execution_count": null,
      "outputs": []
    },
    {
      "cell_type": "code",
      "metadata": {
        "colab": {
          "base_uri": "https://localhost:8080/",
          "height": 270
        },
        "id": "L4FmpfgbvVVN",
        "outputId": "2ce78b64-baee-41c9-fa00-cc0c0bc8ce98"
      },
      "source": [
        "labels.head()"
      ],
      "execution_count": 10,
      "outputs": [
        {
          "output_type": "execute_result",
          "data": {
            "text/html": [
              "<div>\n",
              "<style scoped>\n",
              "    .dataframe tbody tr th:only-of-type {\n",
              "        vertical-align: middle;\n",
              "    }\n",
              "\n",
              "    .dataframe tbody tr th {\n",
              "        vertical-align: top;\n",
              "    }\n",
              "\n",
              "    .dataframe thead th {\n",
              "        text-align: right;\n",
              "    }\n",
              "</style>\n",
              "<table border=\"1\" class=\"dataframe\">\n",
              "  <thead>\n",
              "    <tr style=\"text-align: right;\">\n",
              "      <th></th>\n",
              "      <th>Image Index</th>\n",
              "      <th>Finding Labels</th>\n",
              "      <th>Patient ID</th>\n",
              "      <th>No finding</th>\n",
              "      <th>Cardiomegaly</th>\n",
              "      <th>Effusion</th>\n",
              "      <th>Hernia</th>\n",
              "      <th>Emphysema</th>\n",
              "      <th>Atelectasis</th>\n",
              "      <th>Infiltration</th>\n",
              "      <th>Nodule</th>\n",
              "      <th>Pleural_Thickening</th>\n",
              "      <th>Pneumothorax</th>\n",
              "      <th>Mass</th>\n",
              "      <th>Fibrosis</th>\n",
              "      <th>Consolidation</th>\n",
              "      <th>Pneumonia</th>\n",
              "      <th>Edema</th>\n",
              "    </tr>\n",
              "  </thead>\n",
              "  <tbody>\n",
              "    <tr>\n",
              "      <th>0</th>\n",
              "      <td>00000001_000.png</td>\n",
              "      <td>[Cardiomegaly]</td>\n",
              "      <td>1</td>\n",
              "      <td>False</td>\n",
              "      <td>True</td>\n",
              "      <td>False</td>\n",
              "      <td>False</td>\n",
              "      <td>False</td>\n",
              "      <td>False</td>\n",
              "      <td>False</td>\n",
              "      <td>False</td>\n",
              "      <td>False</td>\n",
              "      <td>False</td>\n",
              "      <td>False</td>\n",
              "      <td>False</td>\n",
              "      <td>False</td>\n",
              "      <td>False</td>\n",
              "      <td>False</td>\n",
              "    </tr>\n",
              "    <tr>\n",
              "      <th>1</th>\n",
              "      <td>00000001_001.png</td>\n",
              "      <td>[Cardiomegaly, Emphysema]</td>\n",
              "      <td>1</td>\n",
              "      <td>False</td>\n",
              "      <td>True</td>\n",
              "      <td>False</td>\n",
              "      <td>False</td>\n",
              "      <td>True</td>\n",
              "      <td>False</td>\n",
              "      <td>False</td>\n",
              "      <td>False</td>\n",
              "      <td>False</td>\n",
              "      <td>False</td>\n",
              "      <td>False</td>\n",
              "      <td>False</td>\n",
              "      <td>False</td>\n",
              "      <td>False</td>\n",
              "      <td>False</td>\n",
              "    </tr>\n",
              "    <tr>\n",
              "      <th>2</th>\n",
              "      <td>00000001_002.png</td>\n",
              "      <td>[Cardiomegaly, Effusion]</td>\n",
              "      <td>1</td>\n",
              "      <td>False</td>\n",
              "      <td>True</td>\n",
              "      <td>True</td>\n",
              "      <td>False</td>\n",
              "      <td>False</td>\n",
              "      <td>False</td>\n",
              "      <td>False</td>\n",
              "      <td>False</td>\n",
              "      <td>False</td>\n",
              "      <td>False</td>\n",
              "      <td>False</td>\n",
              "      <td>False</td>\n",
              "      <td>False</td>\n",
              "      <td>False</td>\n",
              "      <td>False</td>\n",
              "    </tr>\n",
              "    <tr>\n",
              "      <th>3</th>\n",
              "      <td>00000002_000.png</td>\n",
              "      <td>[No Finding]</td>\n",
              "      <td>2</td>\n",
              "      <td>True</td>\n",
              "      <td>False</td>\n",
              "      <td>False</td>\n",
              "      <td>False</td>\n",
              "      <td>False</td>\n",
              "      <td>False</td>\n",
              "      <td>False</td>\n",
              "      <td>False</td>\n",
              "      <td>False</td>\n",
              "      <td>False</td>\n",
              "      <td>False</td>\n",
              "      <td>False</td>\n",
              "      <td>False</td>\n",
              "      <td>False</td>\n",
              "      <td>False</td>\n",
              "    </tr>\n",
              "    <tr>\n",
              "      <th>4</th>\n",
              "      <td>00000003_001.png</td>\n",
              "      <td>[Hernia]</td>\n",
              "      <td>3</td>\n",
              "      <td>False</td>\n",
              "      <td>False</td>\n",
              "      <td>False</td>\n",
              "      <td>True</td>\n",
              "      <td>False</td>\n",
              "      <td>False</td>\n",
              "      <td>False</td>\n",
              "      <td>False</td>\n",
              "      <td>False</td>\n",
              "      <td>False</td>\n",
              "      <td>False</td>\n",
              "      <td>False</td>\n",
              "      <td>False</td>\n",
              "      <td>False</td>\n",
              "      <td>False</td>\n",
              "    </tr>\n",
              "  </tbody>\n",
              "</table>\n",
              "</div>"
            ],
            "text/plain": [
              "        Image Index             Finding Labels  ...  Pneumonia  Edema\n",
              "0  00000001_000.png             [Cardiomegaly]  ...      False  False\n",
              "1  00000001_001.png  [Cardiomegaly, Emphysema]  ...      False  False\n",
              "2  00000001_002.png   [Cardiomegaly, Effusion]  ...      False  False\n",
              "3  00000002_000.png               [No Finding]  ...      False  False\n",
              "4  00000003_001.png                   [Hernia]  ...      False  False\n",
              "\n",
              "[5 rows x 18 columns]"
            ]
          },
          "metadata": {
            "tags": []
          },
          "execution_count": 10
        }
      ]
    },
    {
      "cell_type": "code",
      "metadata": {
        "id": "9OBHJPqaEHIV"
      },
      "source": [
        "labels.sort_values(by=['Image Index'], inplace=True)"
      ],
      "execution_count": 11,
      "outputs": []
    },
    {
      "cell_type": "markdown",
      "metadata": {
        "id": "SzcfmT3_8dGN"
      },
      "source": [
        "Converting boolean values to integers as labels"
      ]
    },
    {
      "cell_type": "code",
      "metadata": {
        "id": "LHVcU_QC5KyN"
      },
      "source": [
        "labels = labels * 1"
      ],
      "execution_count": 12,
      "outputs": []
    },
    {
      "cell_type": "code",
      "metadata": {
        "colab": {
          "base_uri": "https://localhost:8080/",
          "height": 270
        },
        "id": "wSGp6fUCApj1",
        "outputId": "62f7d39d-ec5e-4108-ef1b-1703ec0ae7ce"
      },
      "source": [
        "labels.head()"
      ],
      "execution_count": 13,
      "outputs": [
        {
          "output_type": "execute_result",
          "data": {
            "text/html": [
              "<div>\n",
              "<style scoped>\n",
              "    .dataframe tbody tr th:only-of-type {\n",
              "        vertical-align: middle;\n",
              "    }\n",
              "\n",
              "    .dataframe tbody tr th {\n",
              "        vertical-align: top;\n",
              "    }\n",
              "\n",
              "    .dataframe thead th {\n",
              "        text-align: right;\n",
              "    }\n",
              "</style>\n",
              "<table border=\"1\" class=\"dataframe\">\n",
              "  <thead>\n",
              "    <tr style=\"text-align: right;\">\n",
              "      <th></th>\n",
              "      <th>Image Index</th>\n",
              "      <th>Finding Labels</th>\n",
              "      <th>Patient ID</th>\n",
              "      <th>No finding</th>\n",
              "      <th>Cardiomegaly</th>\n",
              "      <th>Effusion</th>\n",
              "      <th>Hernia</th>\n",
              "      <th>Emphysema</th>\n",
              "      <th>Atelectasis</th>\n",
              "      <th>Infiltration</th>\n",
              "      <th>Nodule</th>\n",
              "      <th>Pleural_Thickening</th>\n",
              "      <th>Pneumothorax</th>\n",
              "      <th>Mass</th>\n",
              "      <th>Fibrosis</th>\n",
              "      <th>Consolidation</th>\n",
              "      <th>Pneumonia</th>\n",
              "      <th>Edema</th>\n",
              "    </tr>\n",
              "  </thead>\n",
              "  <tbody>\n",
              "    <tr>\n",
              "      <th>0</th>\n",
              "      <td>00000001_000.png</td>\n",
              "      <td>[Cardiomegaly]</td>\n",
              "      <td>1</td>\n",
              "      <td>0</td>\n",
              "      <td>1</td>\n",
              "      <td>0</td>\n",
              "      <td>0</td>\n",
              "      <td>0</td>\n",
              "      <td>0</td>\n",
              "      <td>0</td>\n",
              "      <td>0</td>\n",
              "      <td>0</td>\n",
              "      <td>0</td>\n",
              "      <td>0</td>\n",
              "      <td>0</td>\n",
              "      <td>0</td>\n",
              "      <td>0</td>\n",
              "      <td>0</td>\n",
              "    </tr>\n",
              "    <tr>\n",
              "      <th>1</th>\n",
              "      <td>00000001_001.png</td>\n",
              "      <td>[Cardiomegaly, Emphysema]</td>\n",
              "      <td>1</td>\n",
              "      <td>0</td>\n",
              "      <td>1</td>\n",
              "      <td>0</td>\n",
              "      <td>0</td>\n",
              "      <td>1</td>\n",
              "      <td>0</td>\n",
              "      <td>0</td>\n",
              "      <td>0</td>\n",
              "      <td>0</td>\n",
              "      <td>0</td>\n",
              "      <td>0</td>\n",
              "      <td>0</td>\n",
              "      <td>0</td>\n",
              "      <td>0</td>\n",
              "      <td>0</td>\n",
              "    </tr>\n",
              "    <tr>\n",
              "      <th>2</th>\n",
              "      <td>00000001_002.png</td>\n",
              "      <td>[Cardiomegaly, Effusion]</td>\n",
              "      <td>1</td>\n",
              "      <td>0</td>\n",
              "      <td>1</td>\n",
              "      <td>1</td>\n",
              "      <td>0</td>\n",
              "      <td>0</td>\n",
              "      <td>0</td>\n",
              "      <td>0</td>\n",
              "      <td>0</td>\n",
              "      <td>0</td>\n",
              "      <td>0</td>\n",
              "      <td>0</td>\n",
              "      <td>0</td>\n",
              "      <td>0</td>\n",
              "      <td>0</td>\n",
              "      <td>0</td>\n",
              "    </tr>\n",
              "    <tr>\n",
              "      <th>3</th>\n",
              "      <td>00000002_000.png</td>\n",
              "      <td>[No Finding]</td>\n",
              "      <td>2</td>\n",
              "      <td>1</td>\n",
              "      <td>0</td>\n",
              "      <td>0</td>\n",
              "      <td>0</td>\n",
              "      <td>0</td>\n",
              "      <td>0</td>\n",
              "      <td>0</td>\n",
              "      <td>0</td>\n",
              "      <td>0</td>\n",
              "      <td>0</td>\n",
              "      <td>0</td>\n",
              "      <td>0</td>\n",
              "      <td>0</td>\n",
              "      <td>0</td>\n",
              "      <td>0</td>\n",
              "    </tr>\n",
              "    <tr>\n",
              "      <th>11</th>\n",
              "      <td>00000003_000.png</td>\n",
              "      <td>[Hernia]</td>\n",
              "      <td>3</td>\n",
              "      <td>0</td>\n",
              "      <td>0</td>\n",
              "      <td>0</td>\n",
              "      <td>1</td>\n",
              "      <td>0</td>\n",
              "      <td>0</td>\n",
              "      <td>0</td>\n",
              "      <td>0</td>\n",
              "      <td>0</td>\n",
              "      <td>0</td>\n",
              "      <td>0</td>\n",
              "      <td>0</td>\n",
              "      <td>0</td>\n",
              "      <td>0</td>\n",
              "      <td>0</td>\n",
              "    </tr>\n",
              "  </tbody>\n",
              "</table>\n",
              "</div>"
            ],
            "text/plain": [
              "         Image Index             Finding Labels  ...  Pneumonia  Edema\n",
              "0   00000001_000.png             [Cardiomegaly]  ...          0      0\n",
              "1   00000001_001.png  [Cardiomegaly, Emphysema]  ...          0      0\n",
              "2   00000001_002.png   [Cardiomegaly, Effusion]  ...          0      0\n",
              "3   00000002_000.png               [No Finding]  ...          0      0\n",
              "11  00000003_000.png                   [Hernia]  ...          0      0\n",
              "\n",
              "[5 rows x 18 columns]"
            ]
          },
          "metadata": {
            "tags": []
          },
          "execution_count": 13
        }
      ]
    },
    {
      "cell_type": "markdown",
      "metadata": {
        "id": "zBdj8FGoDLjZ"
      },
      "source": [
        "# Loading train and test datasets"
      ]
    },
    {
      "cell_type": "markdown",
      "metadata": {
        "id": "BKZM9VTq7Z6o"
      },
      "source": [
        "Our dataset contains multiple images for each patient. Hence there could be the case, for example, when a patient has taken multiple X-ray images at different times during their hospital visits. In our data splitting, we have to ensure that the split is done on the patient level so that there is no data \"leakage\" between the train, validation, and test datasets.\n",
        "The dataset provided is already split by patient ID for train and test sets. We will further have to split the train dataset into train and validation sets."
      ]
    },
    {
      "cell_type": "code",
      "metadata": {
        "id": "Hk3BT-7UDTsZ"
      },
      "source": [
        "train_val_imgs = pd.read_csv(\"train_val_list.txt\", names=['Image Index'] ,header=None)\n",
        "train_val_imgs.sort_values(by=['Image Index'], inplace=True)"
      ],
      "execution_count": 14,
      "outputs": []
    },
    {
      "cell_type": "code",
      "metadata": {
        "id": "G39x-OLPFKuD"
      },
      "source": [
        "test_imgs = pd.read_csv(\"test_list.txt\", names=['Image Index'] ,header=None)\n",
        "test_imgs.sort_values(by=['Image Index'], inplace=True)"
      ],
      "execution_count": 15,
      "outputs": []
    },
    {
      "cell_type": "code",
      "metadata": {
        "colab": {
          "base_uri": "https://localhost:8080/"
        },
        "id": "KwmaWjeeFauG",
        "outputId": "98c2dc35-be5f-4fbd-cbf1-4046f40bbda3"
      },
      "source": [
        "print('Shape of train and validation set: ', train_val_imgs.shape)\n",
        "print('Shape of test set: ', test_imgs.shape)"
      ],
      "execution_count": 16,
      "outputs": [
        {
          "output_type": "stream",
          "text": [
            "Shape of train and validation set:  (86524, 1)\n",
            "Shape of test set:  (25596, 1)\n"
          ],
          "name": "stdout"
        }
      ]
    },
    {
      "cell_type": "markdown",
      "metadata": {
        "id": "17MCU3UA82Um"
      },
      "source": [
        "# Preventing Data Leakage"
      ]
    },
    {
      "cell_type": "code",
      "metadata": {
        "id": "dXvGrdoK78KJ"
      },
      "source": [
        "def leakage(df1, df2, patient_col):\n",
        "  \"\"\"\n",
        "    Return True if any patients are in both df1 and df2.\n",
        "\n",
        "    Args:\n",
        "        df1 (dataframe): dataframe describing first dataset\n",
        "        df2 (dataframe): dataframe describing second dataset\n",
        "        patient_col (str): string name of column with patient IDs\n",
        "    \n",
        "    Returns:\n",
        "        leakage (bool): True if there is leakage, otherwise False\n",
        "  \"\"\"\n",
        "  df1_unique = set(df1[patient_col].unique().tolist())\n",
        "  df2_unique = set(df2[patient_col].unique().tolist())\n",
        "\n",
        "  patients_common = df1_unique.intersection(df2_unique)\n",
        "\n",
        "  #leakage contains true if there is patient overlap, otherwise false.\n",
        "  leakage = len(patients_common) >= 1\n",
        "\n",
        "  return leakage"
      ],
      "execution_count": 17,
      "outputs": []
    },
    {
      "cell_type": "code",
      "metadata": {
        "colab": {
          "base_uri": "https://localhost:8080/"
        },
        "id": "M9Qz6Prp9n2m",
        "outputId": "36fb4f01-0cb3-4db9-ab4f-6f63202ca69e"
      },
      "source": [
        "train = pd.merge(train_val_imgs, labels, how='inner', on=['Image Index'])\n",
        "test = pd.merge(test_imgs, labels, how='inner', on=['Image Index'])\n",
        "print(train.shape)\n",
        "print(test.shape)"
      ],
      "execution_count": 18,
      "outputs": [
        {
          "output_type": "stream",
          "text": [
            "(86524, 18)\n",
            "(25596, 18)\n"
          ],
          "name": "stdout"
        }
      ]
    },
    {
      "cell_type": "code",
      "metadata": {
        "colab": {
          "base_uri": "https://localhost:8080/"
        },
        "id": "MyEaYx3kpKIy",
        "outputId": "29994159-e8b6-495b-8565-114550e56034"
      },
      "source": [
        "leakage(train, test, 'Patient ID')"
      ],
      "execution_count": 19,
      "outputs": [
        {
          "output_type": "execute_result",
          "data": {
            "text/plain": [
              "False"
            ]
          },
          "metadata": {
            "tags": []
          },
          "execution_count": 19
        }
      ]
    },
    {
      "cell_type": "markdown",
      "metadata": {
        "id": "LbG2ODpo4PeV"
      },
      "source": [
        "# Addressing Class Imbalance"
      ]
    },
    {
      "cell_type": "code",
      "metadata": {
        "colab": {
          "base_uri": "https://localhost:8080/",
          "height": 365
        },
        "id": "IaAloFvN2ClF",
        "outputId": "42e94f67-44d4-4a28-e767-53564983356d"
      },
      "source": [
        "plt.xticks(rotation=90)\n",
        "plt.bar(x=classes, height=np.mean(train[classes], axis=0))\n",
        "plt.title(\"Frequency of Each Class\")\n",
        "plt.savefig('freqency_dist.png', bbox_inches='tight')\n",
        "plt.show()\n",
        "plt.close()"
      ],
      "execution_count": 20,
      "outputs": [
        {
          "output_type": "display_data",
          "data": {
            "image/png": "[encoded data removed]",
            "text/plain": [
              "<Figure size 432x288 with 1 Axes>"
            ]
          },
          "metadata": {
            "tags": [],
            "needs_background": "light"
          }
        }
      ]
    },
    {
      "cell_type": "markdown",
      "metadata": {
        "id": "760OYbP24bwx"
      },
      "source": [
        "Computing class frequencies"
      ]
    },
    {
      "cell_type": "code",
      "metadata": {
        "id": "EzmlxQFE2RRL"
      },
      "source": [
        "def compute_class_freqs(labels):\n",
        "    \"\"\"\n",
        "    Compute positive and negative frequences for each class.\n",
        "\n",
        "    Args:\n",
        "        labels (np.array): matrix of labels, size (num_examples, num_classes)\n",
        "    Returns:\n",
        "        positive_frequencies (np.array): array of positive frequences for each\n",
        "                                         class, size (num_classes)\n",
        "        negative_frequencies (np.array): array of negative frequences for each\n",
        "                                         class, size (num_classes)\n",
        "    \"\"\"    \n",
        "    # total number of patients (rows)\n",
        "    N = labels.shape[0]   \n",
        "    positive_frequencies = np.sum(labels, axis=0) / labels.shape[0]\n",
        "    negative_frequencies = 1 - positive_frequencies\n",
        "    \n",
        "    return positive_frequencies, negative_frequencies"
      ],
      "execution_count": 21,
      "outputs": []
    },
    {
      "cell_type": "code",
      "metadata": {
        "colab": {
          "base_uri": "https://localhost:8080/"
        },
        "id": "Myu3JktN9_xM",
        "outputId": "aa565648-7c54-4b39-9791-1b10d44f3e5b"
      },
      "source": [
        "pos_freq, neg_freq = compute_class_freqs(train[classes])\n",
        "pos_freq"
      ],
      "execution_count": 22,
      "outputs": [
        {
          "output_type": "execute_result",
          "data": {
            "text/plain": [
              "Cardiomegaly          0.019729\n",
              "Emphysema             0.016446\n",
              "Effusion              0.100076\n",
              "Hernia                0.001630\n",
              "Infiltration          0.159285\n",
              "Mass                  0.046623\n",
              "Nodule                0.054413\n",
              "Atelectasis           0.095696\n",
              "Pneumothorax          0.030477\n",
              "Pleural_Thickening    0.025912\n",
              "Pneumonia             0.010124\n",
              "Fibrosis              0.014458\n",
              "Edema                 0.015926\n",
              "Consolidation         0.032962\n",
              "dtype: float64"
            ]
          },
          "metadata": {
            "tags": []
          },
          "execution_count": 22
        }
      ]
    },
    {
      "cell_type": "markdown",
      "metadata": {
        "id": "Zc4LyUn35KsC"
      },
      "source": [
        "Visualizing ratios of classes"
      ]
    },
    {
      "cell_type": "code",
      "metadata": {
        "colab": {
          "base_uri": "https://localhost:8080/",
          "height": 363
        },
        "id": "PEqaxJKf43fg",
        "outputId": "22c81bf4-9125-43af-a5a5-41e5f027de09"
      },
      "source": [
        "ratios = pd.DataFrame({\"Class\": classes, \"Label\": \"Positive\", \"Value\": pos_freq})\n",
        "ratios = ratios.append([{\"Class\": classes[l], \"Label\": \"Negative\", \"Value\": v} for l,v in enumerate(neg_freq)], ignore_index=True)\n",
        "plt.xticks(rotation=90)\n",
        "f = sns.barplot(x=\"Class\", y=\"Value\", hue=\"Label\" ,data=ratios)"
      ],
      "execution_count": 23,
      "outputs": [
        {
          "output_type": "display_data",
          "data": {
            "image/png": "[encoded data removed]",
            "text/plain": [
              "<Figure size 432x288 with 1 Axes>"
            ]
          },
          "metadata": {
            "tags": [],
            "needs_background": "light"
          }
        }
      ]
    },
    {
      "cell_type": "markdown",
      "metadata": {
        "id": "8w3nXT-X8iTP"
      },
      "source": [
        "By multiplying each example from each class by a class-specific weight factor, $w_{pos}$ and $w_{neg}$, we can have the overall contribution of each class the same. \n",
        "\n",
        "To have this, we want \n",
        "\n",
        "$$w_{pos} \\times freq_{p} = w_{neg} \\times freq_{n},$$\n",
        "\n",
        "which we can do simply by taking \n",
        "\n",
        "$$w_{pos} = freq_{neg}$$\n",
        "$$w_{neg} = freq_{pos}$$\n",
        "\n",
        "This way, we will be balancing the contribution of positive and negative labels."
      ]
    },
    {
      "cell_type": "code",
      "metadata": {
        "id": "k3GAX2MQ8vZM"
      },
      "source": [
        "pos_weights = neg_freq\n",
        "neg_weights = pos_freq\n",
        "pos_contribution = pos_freq * pos_weights \n",
        "neg_contribution = neg_freq * neg_weights"
      ],
      "execution_count": 24,
      "outputs": []
    },
    {
      "cell_type": "code",
      "metadata": {
        "colab": {
          "base_uri": "https://localhost:8080/",
          "height": 366
        },
        "id": "k3mwwzfD9IhR",
        "outputId": "fa3e210d-7960-46a4-db51-f1a7aa57af6c"
      },
      "source": [
        "ratios = pd.DataFrame({\"Class\": classes, \"Label\": \"Positive\", \"Value\": pos_contribution})\n",
        "ratios = ratios.append([{\"Class\": classes[l], \"Label\": \"Negative\", \"Value\": v} \n",
        "                        for l,v in enumerate(neg_contribution)], ignore_index=True)\n",
        "plt.xticks(rotation=90)\n",
        "sns.barplot(x=\"Class\", y=\"Value\", hue=\"Label\" ,data=ratios);"
      ],
      "execution_count": 25,
      "outputs": [
        {
          "output_type": "display_data",
          "data": {
            "image/png": "[encoded data removed]",
            "text/plain": [
              "<Figure size 432x288 with 1 Axes>"
            ]
          },
          "metadata": {
            "tags": [],
            "needs_background": "light"
          }
        }
      ]
    }
  ]
}